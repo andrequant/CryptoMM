{
 "cells": [
  {
   "attachments": {},
   "cell_type": "markdown",
   "metadata": {},
   "source": [
    "# Market Making Crypto\n",
    "\n",
    "### The Challenge\n",
    "The challange is to crate a Market Making Algorithm using \n",
    "binance's datasets as starting point.\n",
    "\n",
    "\n",
    "#### Project Breakdown\n",
    "\n",
    "As any complex project, it is easier to tackle if you look as a sequence of smaller problems. So here is the steps I will take:\n",
    "\n",
    "1. Read and see it: Read the datasets, get an ideia of the format, plot some stuffs.\n",
    "2. Standardize data: Create a class merging both datasets, with propper attirbutes and methods, to make it easier to handle.\n",
    "3. Exploratory Analysis: Make some hypothesis, test them, try to make sense with the data and find some predictability.\n",
    "4. Create the Algo: Create  the MM class using the insights acquired in step 3."
   ]
  },
  {
   "cell_type": "code",
   "execution_count": 29,
   "metadata": {},
   "outputs": [],
   "source": [
    "import json\n",
    "import numpy as np\n",
    "import matplotlib.pyplot as plt\n",
    "import ast\n",
    "import pandas as pd\n",
    "import glob\n",
    "import copy\n",
    "\n",
    "from statsmodels.graphics import tsaplots\n",
    "from statsmodels.tsa.stattools import adfuller\n",
    "from sklearn.linear_model import LinearRegression\n",
    "from statsmodels.tsa.ar_model import AutoReg\n",
    "import statsmodels.api as sm"
   ]
  },
  {
   "cell_type": "markdown",
   "metadata": {},
   "source": [
    "First things, first. Let's take a look in our datasets:"
   ]
  },
  {
   "cell_type": "code",
   "execution_count": 2,
   "metadata": {},
   "outputs": [
    {
     "data": {
      "text/html": [
       "<div>\n",
       "<style scoped>\n",
       "    .dataframe tbody tr th:only-of-type {\n",
       "        vertical-align: middle;\n",
       "    }\n",
       "\n",
       "    .dataframe tbody tr th {\n",
       "        vertical-align: top;\n",
       "    }\n",
       "\n",
       "    .dataframe thead th {\n",
       "        text-align: right;\n",
       "    }\n",
       "</style>\n",
       "<table border=\"1\" class=\"dataframe\">\n",
       "  <thead>\n",
       "    <tr style=\"text-align: right;\">\n",
       "      <th></th>\n",
       "      <th>asks</th>\n",
       "      <th>bids</th>\n",
       "    </tr>\n",
       "    <tr>\n",
       "      <th>lastUpdated</th>\n",
       "      <th></th>\n",
       "      <th></th>\n",
       "    </tr>\n",
       "  </thead>\n",
       "  <tbody>\n",
       "    <tr>\n",
       "      <th>2020-07-17 00:00:23.225</th>\n",
       "      <td>[[2.644e-05, 5243], [2.645e-05, 4216], [2.646e...</td>\n",
       "      <td>[[2.639e-05, 4216], [2.638e-05, 7000], [2.637e...</td>\n",
       "    </tr>\n",
       "    <tr>\n",
       "      <th>2020-07-17 00:00:30.293</th>\n",
       "      <td>[[2.645e-05, 4216], [2.646e-05, 763], [2.647e-...</td>\n",
       "      <td>[[2.638e-05, 4989], [2.637e-05, 2427], [2.6360...</td>\n",
       "    </tr>\n",
       "    <tr>\n",
       "      <th>2020-07-17 00:00:30.429</th>\n",
       "      <td>[[2.645e-05, 4216], [2.646e-05, 763], [2.647e-...</td>\n",
       "      <td>[[2.639e-05, 4216], [2.638e-05, 4989], [2.637e...</td>\n",
       "    </tr>\n",
       "    <tr>\n",
       "      <th>2020-07-17 00:01:04.450</th>\n",
       "      <td>[[2.644e-05, 11], [2.646e-05, 4978], [2.647e-0...</td>\n",
       "      <td>[[2.639e-05, 4216], [2.638e-05, 6689], [2.637e...</td>\n",
       "    </tr>\n",
       "    <tr>\n",
       "      <th>2020-07-17 00:01:10.753</th>\n",
       "      <td>[[2.643e-05, 7], [2.645e-05, 3982], [2.646e-05...</td>\n",
       "      <td>[[2.639e-05, 4216], [2.638e-05, 6689], [2.637e...</td>\n",
       "    </tr>\n",
       "    <tr>\n",
       "      <th>...</th>\n",
       "      <td>...</td>\n",
       "      <td>...</td>\n",
       "    </tr>\n",
       "    <tr>\n",
       "      <th>2020-07-17 23:52:22.225</th>\n",
       "      <td>[[2.631e-05, 904], [2.633e-05, 4527], [2.63400...</td>\n",
       "      <td>[[2.628e-05, 17], [2.626e-05, 1210], [2.625e-0...</td>\n",
       "    </tr>\n",
       "    <tr>\n",
       "      <th>2020-07-17 23:52:22.424</th>\n",
       "      <td>[[2.631e-05, 904], [2.633e-05, 4527], [2.63400...</td>\n",
       "      <td>[[2.629e-05, 4], [2.628e-05, 17], [2.626e-05, ...</td>\n",
       "    </tr>\n",
       "    <tr>\n",
       "      <th>2020-07-17 23:53:21.158</th>\n",
       "      <td>[[2.631e-05, 904], [2.633e-05, 4527], [2.63400...</td>\n",
       "      <td>[[2.63e-05, 4], [2.629e-05, 4], [2.628e-05, 17...</td>\n",
       "    </tr>\n",
       "    <tr>\n",
       "      <th>2020-07-17 23:54:58.114</th>\n",
       "      <td>[[2.631e-05, 904], [2.6340000000000002e-05, 51...</td>\n",
       "      <td>[[2.629e-05, 8], [2.628e-05, 17], [2.626e-05, ...</td>\n",
       "    </tr>\n",
       "    <tr>\n",
       "      <th>2020-07-17 23:58:50.194</th>\n",
       "      <td>[[2.631e-05, 911], [2.633e-05, 9127], [2.63400...</td>\n",
       "      <td>[[2.628e-05, 17], [2.626e-05, 3], [2.625e-05, ...</td>\n",
       "    </tr>\n",
       "  </tbody>\n",
       "</table>\n",
       "<p>4766 rows × 2 columns</p>\n",
       "</div>"
      ],
      "text/plain": [
       "                                                                      asks  \\\n",
       "lastUpdated                                                                  \n",
       "2020-07-17 00:00:23.225  [[2.644e-05, 5243], [2.645e-05, 4216], [2.646e...   \n",
       "2020-07-17 00:00:30.293  [[2.645e-05, 4216], [2.646e-05, 763], [2.647e-...   \n",
       "2020-07-17 00:00:30.429  [[2.645e-05, 4216], [2.646e-05, 763], [2.647e-...   \n",
       "2020-07-17 00:01:04.450  [[2.644e-05, 11], [2.646e-05, 4978], [2.647e-0...   \n",
       "2020-07-17 00:01:10.753  [[2.643e-05, 7], [2.645e-05, 3982], [2.646e-05...   \n",
       "...                                                                    ...   \n",
       "2020-07-17 23:52:22.225  [[2.631e-05, 904], [2.633e-05, 4527], [2.63400...   \n",
       "2020-07-17 23:52:22.424  [[2.631e-05, 904], [2.633e-05, 4527], [2.63400...   \n",
       "2020-07-17 23:53:21.158  [[2.631e-05, 904], [2.633e-05, 4527], [2.63400...   \n",
       "2020-07-17 23:54:58.114  [[2.631e-05, 904], [2.6340000000000002e-05, 51...   \n",
       "2020-07-17 23:58:50.194  [[2.631e-05, 911], [2.633e-05, 9127], [2.63400...   \n",
       "\n",
       "                                                                      bids  \n",
       "lastUpdated                                                                 \n",
       "2020-07-17 00:00:23.225  [[2.639e-05, 4216], [2.638e-05, 7000], [2.637e...  \n",
       "2020-07-17 00:00:30.293  [[2.638e-05, 4989], [2.637e-05, 2427], [2.6360...  \n",
       "2020-07-17 00:00:30.429  [[2.639e-05, 4216], [2.638e-05, 4989], [2.637e...  \n",
       "2020-07-17 00:01:04.450  [[2.639e-05, 4216], [2.638e-05, 6689], [2.637e...  \n",
       "2020-07-17 00:01:10.753  [[2.639e-05, 4216], [2.638e-05, 6689], [2.637e...  \n",
       "...                                                                    ...  \n",
       "2020-07-17 23:52:22.225  [[2.628e-05, 17], [2.626e-05, 1210], [2.625e-0...  \n",
       "2020-07-17 23:52:22.424  [[2.629e-05, 4], [2.628e-05, 17], [2.626e-05, ...  \n",
       "2020-07-17 23:53:21.158  [[2.63e-05, 4], [2.629e-05, 4], [2.628e-05, 17...  \n",
       "2020-07-17 23:54:58.114  [[2.629e-05, 8], [2.628e-05, 17], [2.626e-05, ...  \n",
       "2020-07-17 23:58:50.194  [[2.628e-05, 17], [2.626e-05, 3], [2.625e-05, ...  \n",
       "\n",
       "[4766 rows x 2 columns]"
      ]
     },
     "execution_count": 2,
     "metadata": {},
     "output_type": "execute_result"
    }
   ],
   "source": [
    "f = open('orderbooks/2020-07-17.json','r')\n",
    "j = json.load(f)\n",
    "b = pd.DataFrame(j)\n",
    "\n",
    "# Worth to set the timestamp as index\n",
    "b.set_index('lastUpdated', inplace=True)\n",
    "\n",
    "f.close()\n",
    "\n",
    "b"
   ]
  },
  {
   "cell_type": "markdown",
   "metadata": {},
   "source": [
    "Each line of our data is a snapshot of the Limit Order Book, presumible took at each change in the book. One columns is the asks (sell orders), the other the bids (buy orders), with a list of pairs [price, size].\n",
    "\n",
    "This format may not be the easiest to handle. Lets separete the prices and sizes."
   ]
  },
  {
   "cell_type": "code",
   "execution_count": 3,
   "metadata": {},
   "outputs": [],
   "source": [
    "h = pd.DataFrame(columns=['asks_price','asks_qnt', 'bids_price','bids_qnt'], \n",
    "                 index=pd.DataFrame(j)['lastUpdated']) # Create a new DataFrame with the lenght of our data.\n",
    "\n",
    "h.index = pd.to_datetime(h.index) # Convert the Date string to Date formate\n",
    "for i in range(len(j)):\n",
    "\n",
    "\n",
    "    for side in ['asks','bids']:\n",
    "\n",
    "        h.iloc[i][side+'_price'] = list(np.array(ast.literal_eval(j[i][side])).T[0][0:5])\n",
    "        h.iloc[i][side+'_qnt'] = list(np.array(ast.literal_eval(j[i][side])).T[1][0:5])"
   ]
  },
  {
   "cell_type": "code",
   "execution_count": 4,
   "metadata": {},
   "outputs": [
    {
     "data": {
      "text/html": [
       "<div>\n",
       "<style scoped>\n",
       "    .dataframe tbody tr th:only-of-type {\n",
       "        vertical-align: middle;\n",
       "    }\n",
       "\n",
       "    .dataframe tbody tr th {\n",
       "        vertical-align: top;\n",
       "    }\n",
       "\n",
       "    .dataframe thead th {\n",
       "        text-align: right;\n",
       "    }\n",
       "</style>\n",
       "<table border=\"1\" class=\"dataframe\">\n",
       "  <thead>\n",
       "    <tr style=\"text-align: right;\">\n",
       "      <th></th>\n",
       "      <th>asks_price</th>\n",
       "      <th>asks_qnt</th>\n",
       "      <th>bids_price</th>\n",
       "      <th>bids_qnt</th>\n",
       "    </tr>\n",
       "    <tr>\n",
       "      <th>lastUpdated</th>\n",
       "      <th></th>\n",
       "      <th></th>\n",
       "      <th></th>\n",
       "      <th></th>\n",
       "    </tr>\n",
       "  </thead>\n",
       "  <tbody>\n",
       "    <tr>\n",
       "      <th>2020-07-17 00:00:23.225</th>\n",
       "      <td>[2.644e-05, 2.645e-05, 2.646e-05, 2.647e-05, 2...</td>\n",
       "      <td>[5243.0, 4216.0, 763.0, 1291.0, 15177.0]</td>\n",
       "      <td>[2.639e-05, 2.638e-05, 2.637e-05, 2.6360000000...</td>\n",
       "      <td>[4216.0, 7000.0, 2427.0, 27936.0, 278.0]</td>\n",
       "    </tr>\n",
       "    <tr>\n",
       "      <th>2020-07-17 00:00:30.293</th>\n",
       "      <td>[2.645e-05, 2.646e-05, 2.647e-05, 2.648e-05, 2...</td>\n",
       "      <td>[4216.0, 763.0, 6640.0, 16921.0, 62.0]</td>\n",
       "      <td>[2.638e-05, 2.637e-05, 2.6360000000000002e-05,...</td>\n",
       "      <td>[4989.0, 2427.0, 27936.0, 278.0, 2439.0]</td>\n",
       "    </tr>\n",
       "    <tr>\n",
       "      <th>2020-07-17 00:00:30.429</th>\n",
       "      <td>[2.645e-05, 2.646e-05, 2.647e-05, 2.648e-05, 2...</td>\n",
       "      <td>[4216.0, 763.0, 6640.0, 16921.0, 62.0]</td>\n",
       "      <td>[2.639e-05, 2.638e-05, 2.637e-05, 2.6360000000...</td>\n",
       "      <td>[4216.0, 4989.0, 2427.0, 27936.0, 278.0]</td>\n",
       "    </tr>\n",
       "    <tr>\n",
       "      <th>2020-07-17 00:01:04.450</th>\n",
       "      <td>[2.644e-05, 2.646e-05, 2.647e-05, 2.648e-05, 2...</td>\n",
       "      <td>[11.0, 4978.0, 1291.0, 8677.0, 5546.0]</td>\n",
       "      <td>[2.639e-05, 2.638e-05, 2.637e-05, 2.6360000000...</td>\n",
       "      <td>[4216.0, 6689.0, 7998.0, 27936.0, 278.0]</td>\n",
       "    </tr>\n",
       "    <tr>\n",
       "      <th>2020-07-17 00:01:10.753</th>\n",
       "      <td>[2.643e-05, 2.645e-05, 2.646e-05, 2.647e-05, 2...</td>\n",
       "      <td>[7.0, 3982.0, 4978.0, 1291.0, 8677.0]</td>\n",
       "      <td>[2.639e-05, 2.638e-05, 2.637e-05, 2.6360000000...</td>\n",
       "      <td>[4216.0, 6689.0, 2427.0, 27936.0, 278.0]</td>\n",
       "    </tr>\n",
       "  </tbody>\n",
       "</table>\n",
       "</div>"
      ],
      "text/plain": [
       "                                                                asks_price  \\\n",
       "lastUpdated                                                                  \n",
       "2020-07-17 00:00:23.225  [2.644e-05, 2.645e-05, 2.646e-05, 2.647e-05, 2...   \n",
       "2020-07-17 00:00:30.293  [2.645e-05, 2.646e-05, 2.647e-05, 2.648e-05, 2...   \n",
       "2020-07-17 00:00:30.429  [2.645e-05, 2.646e-05, 2.647e-05, 2.648e-05, 2...   \n",
       "2020-07-17 00:01:04.450  [2.644e-05, 2.646e-05, 2.647e-05, 2.648e-05, 2...   \n",
       "2020-07-17 00:01:10.753  [2.643e-05, 2.645e-05, 2.646e-05, 2.647e-05, 2...   \n",
       "\n",
       "                                                         asks_qnt  \\\n",
       "lastUpdated                                                         \n",
       "2020-07-17 00:00:23.225  [5243.0, 4216.0, 763.0, 1291.0, 15177.0]   \n",
       "2020-07-17 00:00:30.293    [4216.0, 763.0, 6640.0, 16921.0, 62.0]   \n",
       "2020-07-17 00:00:30.429    [4216.0, 763.0, 6640.0, 16921.0, 62.0]   \n",
       "2020-07-17 00:01:04.450    [11.0, 4978.0, 1291.0, 8677.0, 5546.0]   \n",
       "2020-07-17 00:01:10.753     [7.0, 3982.0, 4978.0, 1291.0, 8677.0]   \n",
       "\n",
       "                                                                bids_price  \\\n",
       "lastUpdated                                                                  \n",
       "2020-07-17 00:00:23.225  [2.639e-05, 2.638e-05, 2.637e-05, 2.6360000000...   \n",
       "2020-07-17 00:00:30.293  [2.638e-05, 2.637e-05, 2.6360000000000002e-05,...   \n",
       "2020-07-17 00:00:30.429  [2.639e-05, 2.638e-05, 2.637e-05, 2.6360000000...   \n",
       "2020-07-17 00:01:04.450  [2.639e-05, 2.638e-05, 2.637e-05, 2.6360000000...   \n",
       "2020-07-17 00:01:10.753  [2.639e-05, 2.638e-05, 2.637e-05, 2.6360000000...   \n",
       "\n",
       "                                                         bids_qnt  \n",
       "lastUpdated                                                        \n",
       "2020-07-17 00:00:23.225  [4216.0, 7000.0, 2427.0, 27936.0, 278.0]  \n",
       "2020-07-17 00:00:30.293  [4989.0, 2427.0, 27936.0, 278.0, 2439.0]  \n",
       "2020-07-17 00:00:30.429  [4216.0, 4989.0, 2427.0, 27936.0, 278.0]  \n",
       "2020-07-17 00:01:04.450  [4216.0, 6689.0, 7998.0, 27936.0, 278.0]  \n",
       "2020-07-17 00:01:10.753  [4216.0, 6689.0, 2427.0, 27936.0, 278.0]  "
      ]
     },
     "execution_count": 4,
     "metadata": {},
     "output_type": "execute_result"
    }
   ],
   "source": [
    "h.head()"
   ]
  },
  {
   "cell_type": "markdown",
   "metadata": {},
   "source": [
    "Let's turn our attention to the trades file.\n",
    "\n",
    "I replace the buy/sell string for 1 or -1, respectively, in case I decide to use it in a regression or something else.\n"
   ]
  },
  {
   "cell_type": "code",
   "execution_count": 5,
   "metadata": {},
   "outputs": [
    {
     "data": {
      "text/html": [
       "<div>\n",
       "<style scoped>\n",
       "    .dataframe tbody tr th:only-of-type {\n",
       "        vertical-align: middle;\n",
       "    }\n",
       "\n",
       "    .dataframe tbody tr th {\n",
       "        vertical-align: top;\n",
       "    }\n",
       "\n",
       "    .dataframe thead th {\n",
       "        text-align: right;\n",
       "    }\n",
       "</style>\n",
       "<table border=\"1\" class=\"dataframe\">\n",
       "  <thead>\n",
       "    <tr style=\"text-align: right;\">\n",
       "      <th></th>\n",
       "      <th>id</th>\n",
       "      <th>price</th>\n",
       "      <th>side</th>\n",
       "      <th>amount</th>\n",
       "    </tr>\n",
       "    <tr>\n",
       "      <th>lastUpdated</th>\n",
       "      <th></th>\n",
       "      <th></th>\n",
       "      <th></th>\n",
       "      <th></th>\n",
       "    </tr>\n",
       "  </thead>\n",
       "  <tbody>\n",
       "    <tr>\n",
       "      <th>2020-07-17 00:01:10.647</th>\n",
       "      <td>19088200</td>\n",
       "      <td>0.000026</td>\n",
       "      <td>1</td>\n",
       "      <td>4.0</td>\n",
       "    </tr>\n",
       "    <tr>\n",
       "      <th>2020-07-17 00:01:26.820</th>\n",
       "      <td>19088201</td>\n",
       "      <td>0.000026</td>\n",
       "      <td>-1</td>\n",
       "      <td>58.0</td>\n",
       "    </tr>\n",
       "    <tr>\n",
       "      <th>2020-07-17 00:01:26.825</th>\n",
       "      <td>19088202</td>\n",
       "      <td>0.000026</td>\n",
       "      <td>-1</td>\n",
       "      <td>25.0</td>\n",
       "    </tr>\n",
       "    <tr>\n",
       "      <th>2020-07-17 00:01:26.841</th>\n",
       "      <td>19088203</td>\n",
       "      <td>0.000026</td>\n",
       "      <td>-1</td>\n",
       "      <td>235.0</td>\n",
       "    </tr>\n",
       "    <tr>\n",
       "      <th>2020-07-17 00:01:26.842</th>\n",
       "      <td>19088204</td>\n",
       "      <td>0.000026</td>\n",
       "      <td>-1</td>\n",
       "      <td>36.0</td>\n",
       "    </tr>\n",
       "    <tr>\n",
       "      <th>...</th>\n",
       "      <td>...</td>\n",
       "      <td>...</td>\n",
       "      <td>...</td>\n",
       "      <td>...</td>\n",
       "    </tr>\n",
       "    <tr>\n",
       "      <th>2020-07-30 23:54:05.293</th>\n",
       "      <td>19187367</td>\n",
       "      <td>0.000027</td>\n",
       "      <td>-1</td>\n",
       "      <td>181.0</td>\n",
       "    </tr>\n",
       "    <tr>\n",
       "      <th>2020-07-30 23:57:25.885</th>\n",
       "      <td>19187368</td>\n",
       "      <td>0.000027</td>\n",
       "      <td>1</td>\n",
       "      <td>167.0</td>\n",
       "    </tr>\n",
       "    <tr>\n",
       "      <th>2020-07-30 23:58:00.690</th>\n",
       "      <td>19187369</td>\n",
       "      <td>0.000027</td>\n",
       "      <td>-1</td>\n",
       "      <td>21.0</td>\n",
       "    </tr>\n",
       "    <tr>\n",
       "      <th>2020-07-30 23:58:00.697</th>\n",
       "      <td>19187370</td>\n",
       "      <td>0.000027</td>\n",
       "      <td>-1</td>\n",
       "      <td>43.0</td>\n",
       "    </tr>\n",
       "    <tr>\n",
       "      <th>2020-07-30 23:58:36.580</th>\n",
       "      <td>19187371</td>\n",
       "      <td>0.000027</td>\n",
       "      <td>1</td>\n",
       "      <td>1.0</td>\n",
       "    </tr>\n",
       "  </tbody>\n",
       "</table>\n",
       "<p>96503 rows × 4 columns</p>\n",
       "</div>"
      ],
      "text/plain": [
       "                               id     price side  amount\n",
       "lastUpdated                                             \n",
       "2020-07-17 00:01:10.647  19088200  0.000026    1     4.0\n",
       "2020-07-17 00:01:26.820  19088201  0.000026   -1    58.0\n",
       "2020-07-17 00:01:26.825  19088202  0.000026   -1    25.0\n",
       "2020-07-17 00:01:26.841  19088203  0.000026   -1   235.0\n",
       "2020-07-17 00:01:26.842  19088204  0.000026   -1    36.0\n",
       "...                           ...       ...  ...     ...\n",
       "2020-07-30 23:54:05.293  19187367  0.000027   -1   181.0\n",
       "2020-07-30 23:57:25.885  19187368  0.000027    1   167.0\n",
       "2020-07-30 23:58:00.690  19187369  0.000027   -1    21.0\n",
       "2020-07-30 23:58:00.697  19187370  0.000027   -1    43.0\n",
       "2020-07-30 23:58:36.580  19187371  0.000027    1     1.0\n",
       "\n",
       "[96503 rows x 4 columns]"
      ]
     },
     "execution_count": 5,
     "metadata": {},
     "output_type": "execute_result"
    }
   ],
   "source": [
    "trades =  pd.read_csv('trades.csv', usecols = ['timestamp', 'id', 'price', 'side', 'amount'])\n",
    "trades.loc[trades['side'] == 'buy', 'side'] = 1\n",
    "trades.loc[trades['side'] == 'sell', 'side'] = -1\n",
    "trades.rename(columns={'timestamp':'lastUpdated'}, inplace=True)\n",
    "trades.set_index('lastUpdated', inplace=True)\n",
    "trades.index = pd.to_datetime(trades.index)\n",
    "trades"
   ]
  },
  {
   "cell_type": "markdown",
   "metadata": {},
   "source": [
    "The challange now is to merge both datasets and treat them as one thing. The difficult is that the trades and LOB snapshots are not perfectly time aligned. If our LOB data is not missing anything, we can assume that the LOB associated to a given trade is the last one that happend before the trade."
   ]
  },
  {
   "cell_type": "code",
   "execution_count": 6,
   "metadata": {},
   "outputs": [
    {
     "data": {
      "text/html": [
       "<div>\n",
       "<style scoped>\n",
       "    .dataframe tbody tr th:only-of-type {\n",
       "        vertical-align: middle;\n",
       "    }\n",
       "\n",
       "    .dataframe tbody tr th {\n",
       "        vertical-align: top;\n",
       "    }\n",
       "\n",
       "    .dataframe thead th {\n",
       "        text-align: right;\n",
       "    }\n",
       "</style>\n",
       "<table border=\"1\" class=\"dataframe\">\n",
       "  <thead>\n",
       "    <tr style=\"text-align: right;\">\n",
       "      <th></th>\n",
       "      <th>asks_price</th>\n",
       "      <th>asks_qnt</th>\n",
       "      <th>bids_price</th>\n",
       "      <th>bids_qnt</th>\n",
       "      <th>price</th>\n",
       "      <th>side</th>\n",
       "      <th>amount</th>\n",
       "    </tr>\n",
       "    <tr>\n",
       "      <th>lastUpdated</th>\n",
       "      <th></th>\n",
       "      <th></th>\n",
       "      <th></th>\n",
       "      <th></th>\n",
       "      <th></th>\n",
       "      <th></th>\n",
       "      <th></th>\n",
       "    </tr>\n",
       "  </thead>\n",
       "  <tbody>\n",
       "    <tr>\n",
       "      <th>2020-07-17 00:00:23.225</th>\n",
       "      <td>[2.644e-05, 2.645e-05, 2.646e-05, 2.647e-05, 2...</td>\n",
       "      <td>[5243.0, 4216.0, 763.0, 1291.0, 15177.0]</td>\n",
       "      <td>[2.639e-05, 2.638e-05, 2.637e-05, 2.6360000000...</td>\n",
       "      <td>[4216.0, 7000.0, 2427.0, 27936.0, 278.0]</td>\n",
       "      <td>NaN</td>\n",
       "      <td>NaN</td>\n",
       "      <td>NaN</td>\n",
       "    </tr>\n",
       "    <tr>\n",
       "      <th>2020-07-17 00:00:30.293</th>\n",
       "      <td>[2.645e-05, 2.646e-05, 2.647e-05, 2.648e-05, 2...</td>\n",
       "      <td>[4216.0, 763.0, 6640.0, 16921.0, 62.0]</td>\n",
       "      <td>[2.638e-05, 2.637e-05, 2.6360000000000002e-05,...</td>\n",
       "      <td>[4989.0, 2427.0, 27936.0, 278.0, 2439.0]</td>\n",
       "      <td>NaN</td>\n",
       "      <td>NaN</td>\n",
       "      <td>NaN</td>\n",
       "    </tr>\n",
       "    <tr>\n",
       "      <th>2020-07-17 00:00:30.429</th>\n",
       "      <td>[2.645e-05, 2.646e-05, 2.647e-05, 2.648e-05, 2...</td>\n",
       "      <td>[4216.0, 763.0, 6640.0, 16921.0, 62.0]</td>\n",
       "      <td>[2.639e-05, 2.638e-05, 2.637e-05, 2.6360000000...</td>\n",
       "      <td>[4216.0, 4989.0, 2427.0, 27936.0, 278.0]</td>\n",
       "      <td>NaN</td>\n",
       "      <td>NaN</td>\n",
       "      <td>NaN</td>\n",
       "    </tr>\n",
       "    <tr>\n",
       "      <th>2020-07-17 00:01:04.450</th>\n",
       "      <td>[2.644e-05, 2.646e-05, 2.647e-05, 2.648e-05, 2...</td>\n",
       "      <td>[11.0, 4978.0, 1291.0, 8677.0, 5546.0]</td>\n",
       "      <td>[2.639e-05, 2.638e-05, 2.637e-05, 2.6360000000...</td>\n",
       "      <td>[4216.0, 6689.0, 7998.0, 27936.0, 278.0]</td>\n",
       "      <td>NaN</td>\n",
       "      <td>NaN</td>\n",
       "      <td>NaN</td>\n",
       "    </tr>\n",
       "    <tr>\n",
       "      <th>2020-07-17 00:01:10.753</th>\n",
       "      <td>[2.643e-05, 2.645e-05, 2.646e-05, 2.647e-05, 2...</td>\n",
       "      <td>[7.0, 3982.0, 4978.0, 1291.0, 8677.0]</td>\n",
       "      <td>[2.639e-05, 2.638e-05, 2.637e-05, 2.6360000000...</td>\n",
       "      <td>[4216.0, 6689.0, 2427.0, 27936.0, 278.0]</td>\n",
       "      <td>0.000026</td>\n",
       "      <td>1.0</td>\n",
       "      <td>4.0</td>\n",
       "    </tr>\n",
       "    <tr>\n",
       "      <th>...</th>\n",
       "      <td>...</td>\n",
       "      <td>...</td>\n",
       "      <td>...</td>\n",
       "      <td>...</td>\n",
       "      <td>...</td>\n",
       "      <td>...</td>\n",
       "      <td>...</td>\n",
       "    </tr>\n",
       "    <tr>\n",
       "      <th>2020-07-17 23:52:22.225</th>\n",
       "      <td>[2.631e-05, 2.633e-05, 2.6340000000000002e-05,...</td>\n",
       "      <td>[904.0, 4527.0, 627.0, 6619.0, 5522.0]</td>\n",
       "      <td>[2.628e-05, 2.626e-05, 2.625e-05, 2.624e-05, 2...</td>\n",
       "      <td>[17.0, 1210.0, 10618.0, 8182.0, 10693.0]</td>\n",
       "      <td>0.000026</td>\n",
       "      <td>-1.0</td>\n",
       "      <td>4.0</td>\n",
       "    </tr>\n",
       "    <tr>\n",
       "      <th>2020-07-17 23:52:22.424</th>\n",
       "      <td>[2.631e-05, 2.633e-05, 2.6340000000000002e-05,...</td>\n",
       "      <td>[904.0, 4527.0, 627.0, 6619.0, 7687.0]</td>\n",
       "      <td>[2.629e-05, 2.628e-05, 2.626e-05, 2.625e-05, 2...</td>\n",
       "      <td>[4.0, 17.0, 1210.0, 10618.0, 8182.0]</td>\n",
       "      <td>NaN</td>\n",
       "      <td>NaN</td>\n",
       "      <td>NaN</td>\n",
       "    </tr>\n",
       "    <tr>\n",
       "      <th>2020-07-17 23:53:21.158</th>\n",
       "      <td>[2.631e-05, 2.633e-05, 2.6340000000000002e-05,...</td>\n",
       "      <td>[904.0, 4527.0, 627.0, 6619.0, 7687.0]</td>\n",
       "      <td>[2.63e-05, 2.629e-05, 2.628e-05, 2.626e-05, 2....</td>\n",
       "      <td>[4.0, 4.0, 17.0, 3.0, 4988.0]</td>\n",
       "      <td>NaN</td>\n",
       "      <td>NaN</td>\n",
       "      <td>NaN</td>\n",
       "    </tr>\n",
       "    <tr>\n",
       "      <th>2020-07-17 23:54:58.114</th>\n",
       "      <td>[2.631e-05, 2.6340000000000002e-05, 2.635e-05,...</td>\n",
       "      <td>[904.0, 5153.0, 6619.0, 7687.0, 5193.0]</td>\n",
       "      <td>[2.629e-05, 2.628e-05, 2.626e-05, 2.625e-05, 2...</td>\n",
       "      <td>[8.0, 17.0, 10930.0, 5747.0, 9390.0]</td>\n",
       "      <td>NaN</td>\n",
       "      <td>NaN</td>\n",
       "      <td>NaN</td>\n",
       "    </tr>\n",
       "    <tr>\n",
       "      <th>2020-07-17 23:58:50.194</th>\n",
       "      <td>[2.631e-05, 2.633e-05, 2.6340000000000002e-05,...</td>\n",
       "      <td>[911.0, 9127.0, 646.0, 6600.0, 5475.0]</td>\n",
       "      <td>[2.628e-05, 2.626e-05, 2.625e-05, 2.624e-05, 2...</td>\n",
       "      <td>[17.0, 3.0, 4988.0, 13815.0, 13580.0]</td>\n",
       "      <td>0.000026</td>\n",
       "      <td>-1.0</td>\n",
       "      <td>8.0</td>\n",
       "    </tr>\n",
       "  </tbody>\n",
       "</table>\n",
       "<p>4766 rows × 7 columns</p>\n",
       "</div>"
      ],
      "text/plain": [
       "                                                                asks_price  \\\n",
       "lastUpdated                                                                  \n",
       "2020-07-17 00:00:23.225  [2.644e-05, 2.645e-05, 2.646e-05, 2.647e-05, 2...   \n",
       "2020-07-17 00:00:30.293  [2.645e-05, 2.646e-05, 2.647e-05, 2.648e-05, 2...   \n",
       "2020-07-17 00:00:30.429  [2.645e-05, 2.646e-05, 2.647e-05, 2.648e-05, 2...   \n",
       "2020-07-17 00:01:04.450  [2.644e-05, 2.646e-05, 2.647e-05, 2.648e-05, 2...   \n",
       "2020-07-17 00:01:10.753  [2.643e-05, 2.645e-05, 2.646e-05, 2.647e-05, 2...   \n",
       "...                                                                    ...   \n",
       "2020-07-17 23:52:22.225  [2.631e-05, 2.633e-05, 2.6340000000000002e-05,...   \n",
       "2020-07-17 23:52:22.424  [2.631e-05, 2.633e-05, 2.6340000000000002e-05,...   \n",
       "2020-07-17 23:53:21.158  [2.631e-05, 2.633e-05, 2.6340000000000002e-05,...   \n",
       "2020-07-17 23:54:58.114  [2.631e-05, 2.6340000000000002e-05, 2.635e-05,...   \n",
       "2020-07-17 23:58:50.194  [2.631e-05, 2.633e-05, 2.6340000000000002e-05,...   \n",
       "\n",
       "                                                         asks_qnt  \\\n",
       "lastUpdated                                                         \n",
       "2020-07-17 00:00:23.225  [5243.0, 4216.0, 763.0, 1291.0, 15177.0]   \n",
       "2020-07-17 00:00:30.293    [4216.0, 763.0, 6640.0, 16921.0, 62.0]   \n",
       "2020-07-17 00:00:30.429    [4216.0, 763.0, 6640.0, 16921.0, 62.0]   \n",
       "2020-07-17 00:01:04.450    [11.0, 4978.0, 1291.0, 8677.0, 5546.0]   \n",
       "2020-07-17 00:01:10.753     [7.0, 3982.0, 4978.0, 1291.0, 8677.0]   \n",
       "...                                                           ...   \n",
       "2020-07-17 23:52:22.225    [904.0, 4527.0, 627.0, 6619.0, 5522.0]   \n",
       "2020-07-17 23:52:22.424    [904.0, 4527.0, 627.0, 6619.0, 7687.0]   \n",
       "2020-07-17 23:53:21.158    [904.0, 4527.0, 627.0, 6619.0, 7687.0]   \n",
       "2020-07-17 23:54:58.114   [904.0, 5153.0, 6619.0, 7687.0, 5193.0]   \n",
       "2020-07-17 23:58:50.194    [911.0, 9127.0, 646.0, 6600.0, 5475.0]   \n",
       "\n",
       "                                                                bids_price  \\\n",
       "lastUpdated                                                                  \n",
       "2020-07-17 00:00:23.225  [2.639e-05, 2.638e-05, 2.637e-05, 2.6360000000...   \n",
       "2020-07-17 00:00:30.293  [2.638e-05, 2.637e-05, 2.6360000000000002e-05,...   \n",
       "2020-07-17 00:00:30.429  [2.639e-05, 2.638e-05, 2.637e-05, 2.6360000000...   \n",
       "2020-07-17 00:01:04.450  [2.639e-05, 2.638e-05, 2.637e-05, 2.6360000000...   \n",
       "2020-07-17 00:01:10.753  [2.639e-05, 2.638e-05, 2.637e-05, 2.6360000000...   \n",
       "...                                                                    ...   \n",
       "2020-07-17 23:52:22.225  [2.628e-05, 2.626e-05, 2.625e-05, 2.624e-05, 2...   \n",
       "2020-07-17 23:52:22.424  [2.629e-05, 2.628e-05, 2.626e-05, 2.625e-05, 2...   \n",
       "2020-07-17 23:53:21.158  [2.63e-05, 2.629e-05, 2.628e-05, 2.626e-05, 2....   \n",
       "2020-07-17 23:54:58.114  [2.629e-05, 2.628e-05, 2.626e-05, 2.625e-05, 2...   \n",
       "2020-07-17 23:58:50.194  [2.628e-05, 2.626e-05, 2.625e-05, 2.624e-05, 2...   \n",
       "\n",
       "                                                         bids_qnt     price  \\\n",
       "lastUpdated                                                                   \n",
       "2020-07-17 00:00:23.225  [4216.0, 7000.0, 2427.0, 27936.0, 278.0]       NaN   \n",
       "2020-07-17 00:00:30.293  [4989.0, 2427.0, 27936.0, 278.0, 2439.0]       NaN   \n",
       "2020-07-17 00:00:30.429  [4216.0, 4989.0, 2427.0, 27936.0, 278.0]       NaN   \n",
       "2020-07-17 00:01:04.450  [4216.0, 6689.0, 7998.0, 27936.0, 278.0]       NaN   \n",
       "2020-07-17 00:01:10.753  [4216.0, 6689.0, 2427.0, 27936.0, 278.0]  0.000026   \n",
       "...                                                           ...       ...   \n",
       "2020-07-17 23:52:22.225  [17.0, 1210.0, 10618.0, 8182.0, 10693.0]  0.000026   \n",
       "2020-07-17 23:52:22.424      [4.0, 17.0, 1210.0, 10618.0, 8182.0]       NaN   \n",
       "2020-07-17 23:53:21.158             [4.0, 4.0, 17.0, 3.0, 4988.0]       NaN   \n",
       "2020-07-17 23:54:58.114      [8.0, 17.0, 10930.0, 5747.0, 9390.0]       NaN   \n",
       "2020-07-17 23:58:50.194     [17.0, 3.0, 4988.0, 13815.0, 13580.0]  0.000026   \n",
       "\n",
       "                         side  amount  \n",
       "lastUpdated                            \n",
       "2020-07-17 00:00:23.225   NaN     NaN  \n",
       "2020-07-17 00:00:30.293   NaN     NaN  \n",
       "2020-07-17 00:00:30.429   NaN     NaN  \n",
       "2020-07-17 00:01:04.450   NaN     NaN  \n",
       "2020-07-17 00:01:10.753   1.0     4.0  \n",
       "...                       ...     ...  \n",
       "2020-07-17 23:52:22.225  -1.0     4.0  \n",
       "2020-07-17 23:52:22.424   NaN     NaN  \n",
       "2020-07-17 23:53:21.158   NaN     NaN  \n",
       "2020-07-17 23:54:58.114   NaN     NaN  \n",
       "2020-07-17 23:58:50.194  -1.0     8.0  \n",
       "\n",
       "[4766 rows x 7 columns]"
      ]
     },
     "execution_count": 6,
     "metadata": {},
     "output_type": "execute_result"
    }
   ],
   "source": [
    "## Pandas function to merge based on timestamp\n",
    "merged = pd.merge_asof(h, trades, left_index=True, right_index=True, \n",
    "                        direction='backward', allow_exact_matches=False)\n",
    "\n",
    "# merge_asof has an undesired property to fill all previous lines with the same trade values, until\n",
    "# a previous trade happend. This code replace repetitions with NA.\n",
    "merged['dupli'] = merged['id'].shift(1)\n",
    "lis = ['price','side','amount','id']\n",
    "\n",
    "for c in lis:\n",
    "\n",
    "    merged[c] = merged.apply(lambda x: float('NaN') if x['id'] == x['dupli'] else x[c], axis=1)\n",
    "\n",
    "merged = merged.drop(['dupli','id'], axis=1)\n",
    "\n",
    "##\n",
    "\n",
    "merged\n"
   ]
  },
  {
   "cell_type": "markdown",
   "metadata": {},
   "source": [
    "Having seen the data, we are rady to create a Class for it. The intention of this class is not only to merge both files in a single object, but also have usefull methods each extract important informations from the data."
   ]
  },
  {
   "cell_type": "code",
   "execution_count": 7,
   "metadata": {},
   "outputs": [],
   "source": [
    "##### Class LOB #####\n",
    "\n",
    "\n",
    "# Let's create a Class for our LOB data!!!\n",
    "# The Market depth in the data may be much more than the analyst may want, \n",
    "# therefore I decided to let the user choose the market depth to keep.\n",
    "\n",
    "\n",
    "\n",
    "class LOB():\n",
    "\n",
    "\n",
    "    def __init__(self, lobData, tradesData, depth = 5): # depth is the number of the levels in the book to keep.\n",
    "\n",
    "        self.lob = lobData\n",
    "        self.tdata = tradesData\n",
    "        self.parseLOB()\n",
    "        self.parseTrades()\n",
    "        self.syncData()\n",
    "\n",
    "    ##### Internal Methods #####\n",
    "\n",
    "    def parseLOB(self): # Parse the orderbook\n",
    "\n",
    "        js = []\n",
    "        for file in self.lob:\n",
    "            with open(file, 'r') as f:\n",
    "                j = json.load(f)\n",
    "                js.extend(j)\n",
    "        \n",
    "        self.book = pd.DataFrame(columns=['asks_price','asks_qnt', 'bids_price','bids_qnt'], \n",
    "                                  index=pd.DataFrame(js)['lastUpdated'])\n",
    "        self.book.rename(columns={'lastUpdated':'timestamp'}, inplace=True) \n",
    "\n",
    "        # Split the price and size\n",
    "        for i in range(len(js)):\n",
    "            for side in ['asks','bids']:\n",
    "\n",
    "                self.book.iloc[i][side+'_price'] = list(np.array(ast.literal_eval(js[i][side])).T[0])\n",
    "                self.book.iloc[i][side+'_qnt'] = list(np.array(ast.literal_eval(js[i][side])).T[1])\n",
    "        \n",
    "        self.book.index = pd.to_datetime(self.book.index)\n",
    "\n",
    "\n",
    "    def parseTrades(self): # Parse the trades data\n",
    "\n",
    "        self.trades = pd.read_csv(self.tdata, usecols = ['timestamp', 'id', 'price', 'side', 'amount'])\n",
    "        self.trades.loc[self.trades['side'] == 'buy', 'side'] = 1\n",
    "        self.trades.loc[self.trades['side'] == 'sell', 'side'] = -1\n",
    "        \n",
    "        self.trades.set_index('timestamp', inplace=True)\n",
    "        self.trades.index = pd.to_datetime(self.trades.index)\n",
    "\n",
    "\n",
    "    def syncData(self): #Synchronize both sets\n",
    "        \n",
    "        # In case um set is longer term than the other, reduce the same last time.\n",
    "        dateLimit = min(max(self.trades.index),max(self.book.index))\n",
    "        self.trades = self.trades[self.trades.index < dateLimit]\n",
    "        self.book = self.book[self.book.index < dateLimit]\n",
    "\n",
    "        #merge\n",
    "        self.fullData = pd.merge_asof(self.book, self.trades, left_index=True, right_index=True, direction='backward', allow_exact_matches=False)\n",
    "        self.fullData['dupli'] = self.fullData['id'].shift(1)\n",
    "        lis = ['price','side','amount','id']\n",
    "\n",
    "        for c in lis:\n",
    "\n",
    "            self.fullData[c] = self.fullData.apply(lambda x: float('nan') if x['id'] == x['dupli'] else x[c], axis=1)\n",
    "\n",
    "        self.fullData = self.fullData.drop(['dupli','id'], axis=1)\n",
    "        \n",
    "\n",
    "\n",
    "    ##### External Methods #####\n",
    "    # This methods should provide usefull, frequently needed, informations derived from our data.\n",
    "\n",
    "    def priceByLevel(self, level=0): # Get the bid/ask price at each market level\n",
    "\n",
    "        return pd.DataFrame({'asks': self.book.asks_price.apply(lambda x: x[level]), \n",
    "                    'bids': self.book.bids_price.apply(lambda x: x[level])})\n",
    "\n",
    "\n",
    "    def qntByLevel(self, level=0): # Get the bid/ask size at each market level\n",
    "\n",
    "        return pd.DataFrame({'asks': self.book.asks_qnt.apply(lambda x: x[level]), \n",
    "                    'bids': self.book.bids_qnt.apply(lambda x: x[level])})\n",
    "\n",
    "\n",
    "    def spread(self, level = 0): # The difference between bid and ask price at each level\n",
    "        \n",
    "        return self.priceByLevel(level).asks - self.priceByLevel(level).bids\n",
    "\n",
    "\n",
    "    def midPrice(self): # Mid-price, i.e. average between bid and ask\n",
    "\n",
    "        return (self.priceByLevel(level=0).asks+self.priceByLevel(level=0).bids)/2\n",
    "\n",
    "\n",
    "    def wap(self, cross = False):\n",
    "    \n",
    "        # The Weighted Average Price measure the \"mid-price\" taking account the size at each size of the book.\n",
    "        # I found two definitions: one weights each side (best order) by its own size, \n",
    "        # the other weights by the opposite side size. Let the user choose.\n",
    "        # Counterintuitive at first side, the crossed definition also make sense.\n",
    "        # A bigger Ask order is expected to push price to the Bid side, \n",
    "        # therefore, seems reseonable to the mid-price be skewed to the bid price \n",
    "        # (the same for the opposite situation).\n",
    "\n",
    "        if (cross == False):\n",
    "\n",
    "            return ((self.priceByLevel(level=0).asks * self.qntByLevel(level=0).asks + \n",
    "                    self.priceByLevel(level=0).bids * self.qntByLevel(level=0).bids)/\n",
    "                    (self.qntByLevel(level=0).asks + self.qntByLevel(level=0).bids))\n",
    "\n",
    "        else:\n",
    "\n",
    "            return ((self.priceByLevel(level=0).asks * self.qntByLevel(level=0).bids + \n",
    "                    self.priceByLevel(level=0).bids * self.qntByLevel(level=0).asks)/\n",
    "                    (self.qntByLevel(level=0).asks + self.qntByLevel(level=0).bids))\n",
    "\n",
    "\n",
    "\n",
    "    def OFI(self):\n",
    "\n",
    "        # This function is based on the paper \"The price impact of order book events.\"\n",
    "        # by Rama Cont, Arseniy Kukanov, and Sasha Stoikov.\n",
    "        # The \"en\" is a measuremente of changes in the book in qunatities, based on changes of bid and ask. \n",
    "        # A positive number indicates a increase in demand, therefore should predict a price increase.\n",
    "\n",
    "\n",
    "        self.fullData['i'] = np.arange(len(self.fullData))\n",
    "        en = np.zeros(len(self.fullData))\n",
    "        ofi = np.zeros(len(self.fullData))\n",
    "        dpk = np.zeros(len(self.fullData))\n",
    "\n",
    "        en[0] = 0\n",
    "        ofi[0] = 0\n",
    "        dpk[0] = float('NaN')\n",
    "        \n",
    "        pk = self.midPrice()[0]\n",
    "        \n",
    "        # Cont et al. used only Level 1 orders, but I think that crypto markets have many small traders\n",
    "        # placing small uninformed orders at L1, without significantly informing about supply/demand. polluting \n",
    "        # the measurement. I used the weighted average between L1 and L2 price and the sum of quantities\n",
    "        # to smooth this effect. \n",
    "        # Its tempting to use many levels here, but orders far from the L1 may be deceiving, used to hold place\n",
    "        # in the queue or deceive algotraders.\n",
    "        #\n",
    "        # The \"ofi\" is the \"Order Flow Imbalance\", the summation of \"en\"s between each trading occorrence.\n",
    "        #\n",
    "        # The \"DeltaPrice\" is simple the diference between one execution price of a trade and the previous one.\n",
    "\n",
    "        qnt = (self.qntByLevel(0)+self.qntByLevel(1))\n",
    "        price = ((self.priceByLevel(0)*self.qntByLevel(0)+self.priceByLevel(1)*self.qntByLevel(1))\n",
    "                /(self.qntByLevel(0)+self.qntByLevel(1)))\n",
    "\n",
    "        for i in range(len(en)-1):\n",
    "    \n",
    "            en[i+1] = ((qnt.bids[i+1] if price.bids[i+1] >= price.bids[i] else 0) -\n",
    "                        (qnt.bids[i] if price.bids[i+1] <= price.bids[i] else 0) -\n",
    "                        (qnt.asks[i+1] if price.asks[i+1] <= price.asks[i] else 0) +\n",
    "                        (qnt.asks[i] if price.bids[i+1] >= price.bids[i] else 0))\n",
    "\n",
    "            if (pd.isna(self.fullData.price[i])):\n",
    "                ofi[i+1] = ofi[i] + en[i+1]\n",
    "                dpk[i+1] = float('NaN')\n",
    "            else:\n",
    "                ofi[i+1] = en[i+1]\n",
    "                \n",
    "        \n",
    "        for i in range(len(en)):\n",
    "\n",
    "            if (pd.isna(self.fullData.price[i])):\n",
    "                dpk[i] = float('NaN')\n",
    "            else:\n",
    "                dpk[i] =(self.fullData.price[i]-pk)\n",
    "\n",
    "                pk =  copy.deepcopy(self.fullData.price[i])\n",
    "\n",
    "        dpk[-1] = self.midPrice()[-1]\n",
    "\n",
    "        return pd.DataFrame([en,ofi,dpk], index=['En','OFI','DeltaPrice'], columns=self.fullData.index).T\n"
   ]
  },
  {
   "cell_type": "markdown",
   "metadata": {},
   "source": [
    "Data Class done. Let's focus our attention in decide at which prices we should place our bid and ask orders based in the data.\n",
    "\n",
    "We can split the task in:\n",
    "    - Predict the price direction\n",
    "    - Predict the spread size.\n",
    "\n",
    "Our prices will be predictedPrice +|- spread/2\n",
    "\n",
    "First, let's create a object with a few dates of data."
   ]
  },
  {
   "cell_type": "code",
   "execution_count": 8,
   "metadata": {},
   "outputs": [],
   "source": [
    "#json_file_list = glob.glob('orderbooks/*.json')  # In case you want to open all the files in the folder\n",
    "json_file_list = ['orderbooks/2020-07-22.json','orderbooks/2020-07-23.json',\n",
    "                    'orderbooks/2020-07-24.json','orderbooks/2020-07-25.json']\n",
    "market = LOB(json_file_list,'trades.csv', 5)"
   ]
  },
  {
   "cell_type": "markdown",
   "metadata": {},
   "source": [
    "Let's look to the best bids, asks and spread through time (ploting every nth datapoint for speed)."
   ]
  },
  {
   "cell_type": "code",
   "execution_count": 23,
   "metadata": {},
   "outputs": [
    {
     "data": {
      "image/png": "[encoded data removed]",
      "text/plain": [
       "<Figure size 960x480 with 1 Axes>"
      ]
     },
     "metadata": {
      "needs_background": "light"
     },
     "output_type": "display_data"
    },
    {
     "data": {
      "image/png": "[encoded data removed]",
      "text/plain": [
       "<Figure size 960x480 with 1 Axes>"
      ]
     },
     "metadata": {
      "needs_background": "light"
     },
     "output_type": "display_data"
    },
    {
     "data": {
      "image/png": "[encoded data removed]",
      "text/plain": [
       "<Figure size 432x288 with 1 Axes>"
      ]
     },
     "metadata": {
      "needs_background": "light"
     },
     "output_type": "display_data"
    }
   ],
   "source": [
    "firstLevel = market.priceByLevel(level=0)\n",
    "midP = market.midPrice()\n",
    "spread = (firstLevel.asks-firstLevel.bids)/midP\n",
    "\n",
    "n = 10\n",
    "\n",
    "plt.figure(figsize=(12, 6), dpi=80)\n",
    "plt.title('Prices Time Series')\n",
    "plt.plot(firstLevel[0::n], label=['ask price','bid price'])\n",
    "plt.plot(market.midPrice()[0::n], label='mid')\n",
    "plt.plot(market.wap()[0::n], label='wap')\n",
    "plt.legend(loc = \"upper right\")\n",
    "plt.xticks(firstLevel.index[0::500], rotation = 45)\n",
    "plt.savefig('hist.png')\n",
    "plt.show()\n",
    "\n",
    "\n",
    "plt.figure(figsize=(12, 6), dpi=80)\n",
    "plt.title('Spread Time Series, in %')\n",
    "\n",
    "plt.plot(spread, label = 'spread')\n",
    "plt.legend(loc = \"upper right\")\n",
    "plt.xticks(firstLevel.index[0::500], rotation = 45)\n",
    "plt.savefig('histSpread.png')\n",
    "plt.show()\n",
    "\n",
    "# And spread histogram, which looks pretty symmetrical, even binomialy distributed.\n",
    "plt.title('Spread Histogram')\n",
    "plt.hist(spread, bins=np.linspace(0,0.006,10))\n",
    "plt.savefig('histHist.png')\n",
    "plt.show()\n"
   ]
  },
  {
   "cell_type": "markdown",
   "metadata": {},
   "source": [
    "The first thing to caught our attention is the tightness of the spread, usually less than 0.3%. Make market here won't be a easy taks.\n",
    "\n",
    "The second thing is a apparently mean-reversion in the process. We can check this hypothesis using the Augmented Dickey-Fuller test."
   ]
  },
  {
   "cell_type": "code",
   "execution_count": 10,
   "metadata": {},
   "outputs": [
    {
     "name": "stdout",
     "output_type": "stream",
     "text": [
      "ADF Statistic: -20.316745\n",
      "p-value: 0.000000\n",
      "Critical Values:\n",
      "\t1%: -3.431\n",
      "\t5%: -2.862\n",
      "\t10%: -2.567\n"
     ]
    }
   ],
   "source": [
    "adf_spread = adfuller(spread,20)\n",
    "print('ADF Statistic: %f' % adf_spread[0])\n",
    "print('p-value: %f' % adf_spread[1])\n",
    "print('Critical Values:')\n",
    "for key, value in adf_spread[4].items():\n",
    "\tprint('\\t%s: %.3f' % (key, value))"
   ]
  },
  {
   "cell_type": "markdown",
   "metadata": {},
   "source": [
    "With an ADF Statistic way bellow the 1% critical value, we can safely reject the stationarity hyposthesis and proceed with the mean-reversion idea.\n",
    "\n",
    "This make sense with economic theory. If the spread gets too wide, players enter in the market to harvest the opportunity, narrowing it. If it's too narrow, the less efficient players are forced out the market, widening the spread.\n",
    "\n",
    "Let's check the first difference of the spread series to check for further predictibilty."
   ]
  },
  {
   "cell_type": "code",
   "execution_count": 25,
   "metadata": {},
   "outputs": [
    {
     "data": {
      "image/png": "[encoded data removed]",
      "text/plain": [
       "<Figure size 432x288 with 1 Axes>"
      ]
     },
     "metadata": {
      "needs_background": "light"
     },
     "output_type": "display_data"
    }
   ],
   "source": [
    "spread_variation = spread.diff()[1:]\n",
    "\n",
    "plt.title('Spread vs Spread Variation')\n",
    "plt.scatter(spread[:-1],spread_variation[:])\n",
    "plt.savefig('OUrev.png')\n",
    "plt.show()\n"
   ]
  },
  {
   "cell_type": "code",
   "execution_count": 12,
   "metadata": {},
   "outputs": [
    {
     "name": "stdout",
     "output_type": "stream",
     "text": [
      "R-Squared: 0.1989116159743498\n",
      "Beta: -0.3978255287484387\n",
      "Intercept: 0.0005999952904138282\n"
     ]
    }
   ],
   "source": [
    "# Linear Regression between the spread and its first difference\n",
    "\n",
    "regSpread = LinearRegression().fit(np.array(spread[:-1]).reshape(-1, 1),np.array(spread_variation[:]).reshape(-1, 1))\n",
    "print(\"R-Squared:\", regSpread.score(np.array(spread[:-1]).reshape(-1, 1),np.array(spread_variation[:]).reshape(-1, 1)))\n",
    "print(\"Beta:\", regSpread.coef_[0][0])\n",
    "print(\"Intercept:\", regSpread.intercept_[0])"
   ]
  },
  {
   "cell_type": "markdown",
   "metadata": {},
   "source": [
    "The two cells above indicate a strong relation between the spread and its subsequent variation. In the next we going to test the spread variation against its lags, removed the level of the spread effect."
   ]
  },
  {
   "cell_type": "code",
   "execution_count": 26,
   "metadata": {},
   "outputs": [
    {
     "data": {
      "image/png": "[encoded data removed]",
      "text/plain": [
       "<Figure size 432x288 with 1 Axes>"
      ]
     },
     "metadata": {
      "needs_background": "light"
     },
     "output_type": "display_data"
    }
   ],
   "source": [
    "e_spread_variation = spread_variation.values - (regSpread.intercept_[0] + regSpread.coef_[0][0] * spread.values[:-1])\n",
    "\n",
    "# Partial Autocorrelation of Spread Variation\n",
    "\n",
    "tsaplots.plot_pacf(e_spread_variation, alpha=0.01);\n",
    "plt.savefig('pacf.png')"
   ]
  },
  {
   "cell_type": "code",
   "execution_count": 14,
   "metadata": {},
   "outputs": [
    {
     "name": "stdout",
     "output_type": "stream",
     "text": [
      "                            AutoReg Model Results                             \n",
      "==============================================================================\n",
      "Dep. Variable:                      y   No. Observations:                25630\n",
      "Model:                     AutoReg(1)   Log Likelihood              156706.359\n",
      "Method:               Conditional MLE   S.D. of innovations              0.001\n",
      "Date:                Thu, 25 Aug 2022   AIC                            -15.066\n",
      "Time:                        22:00:09   BIC                            -15.066\n",
      "Sample:                             1   HQIC                           -15.066\n",
      "                                25630                                         \n",
      "==============================================================================\n",
      "                 coef    std err          z      P>|z|      [0.025      0.975]\n",
      "------------------------------------------------------------------------------\n",
      "intercept  -4.287e-08   3.34e-06     -0.013      0.990   -6.59e-06    6.51e-06\n",
      "y.L1          -0.1404      0.006    -22.697      0.000      -0.152      -0.128\n",
      "                                    Roots                                    \n",
      "=============================================================================\n",
      "                  Real          Imaginary           Modulus         Frequency\n",
      "-----------------------------------------------------------------------------\n",
      "AR.1           -7.1242           +0.0000j            7.1242            0.5000\n",
      "-----------------------------------------------------------------------------\n"
     ]
    },
    {
     "name": "stderr",
     "output_type": "stream",
     "text": [
      "C:\\Users\\andre\\AppData\\Roaming\\Python\\Python39\\site-packages\\statsmodels\\tsa\\ar_model.py:248: FutureWarning: The parameter names will change after 0.12 is released. Set old_names to False to use the new names now. Set old_names to True to use the old names. \n",
      "  warnings.warn(\n"
     ]
    }
   ],
   "source": [
    "# AR (autoregressive) model with Lag=3\n",
    "ar_model1 = AutoReg(e_spread_variation, lags=1).fit()\n",
    "print(ar_model1.summary())\n"
   ]
  },
  {
   "cell_type": "code",
   "execution_count": 15,
   "metadata": {},
   "outputs": [
    {
     "name": "stdout",
     "output_type": "stream",
     "text": [
      "                            AutoReg Model Results                             \n",
      "==============================================================================\n",
      "Dep. Variable:                      y   No. Observations:                25630\n",
      "Model:                    AutoReg(10)   Log Likelihood              157515.850\n",
      "Method:               Conditional MLE   S.D. of innovations              0.001\n",
      "Date:                Thu, 25 Aug 2022   AIC                            -15.133\n",
      "Time:                        22:00:09   BIC                            -15.129\n",
      "Sample:                            10   HQIC                           -15.132\n",
      "                                25630                                         \n",
      "==============================================================================\n",
      "                 coef    std err          z      P>|z|      [0.025      0.975]\n",
      "------------------------------------------------------------------------------\n",
      "intercept  -6.946e-08   3.23e-06     -0.021      0.983    -6.4e-06    6.26e-06\n",
      "y.L1          -0.1901      0.006    -30.434      0.000      -0.202      -0.178\n",
      "y.L2           0.0391      0.006      6.162      0.000       0.027       0.052\n",
      "y.L3           0.0781      0.006     12.348      0.000       0.066       0.091\n",
      "y.L4           0.0969      0.006     15.321      0.000       0.085       0.109\n",
      "y.L5           0.0997      0.006     15.750      0.000       0.087       0.112\n",
      "y.L6           0.0942      0.006     14.887      0.000       0.082       0.107\n",
      "y.L7           0.0807      0.006     12.751      0.000       0.068       0.093\n",
      "y.L8           0.0891      0.006     14.090      0.000       0.077       0.102\n",
      "y.L9           0.0588      0.006      9.261      0.000       0.046       0.071\n",
      "y.L10          0.0296      0.006      4.738      0.000       0.017       0.042\n",
      "                                    Roots                                     \n",
      "==============================================================================\n",
      "                   Real          Imaginary           Modulus         Frequency\n",
      "------------------------------------------------------------------------------\n",
      "AR.1             1.1037           -0.0000j            1.1037           -0.0000\n",
      "AR.2             0.9391           -0.9595j            1.3426           -0.1267\n",
      "AR.3             0.9391           +0.9595j            1.3426            0.1267\n",
      "AR.4             0.1865           -1.4138j            1.4261           -0.2291\n",
      "AR.5             0.1865           +1.4138j            1.4261            0.2291\n",
      "AR.6            -1.4520           -0.0000j            1.4520           -0.5000\n",
      "AR.7            -1.2534           -0.8791j            1.5310           -0.4027\n",
      "AR.8            -1.2534           +0.8791j            1.5310            0.4027\n",
      "AR.9            -0.6911           -1.4058j            1.5665           -0.3227\n",
      "AR.10           -0.6911           +1.4058j            1.5665            0.3227\n",
      "------------------------------------------------------------------------------\n"
     ]
    },
    {
     "name": "stderr",
     "output_type": "stream",
     "text": [
      "C:\\Users\\andre\\AppData\\Roaming\\Python\\Python39\\site-packages\\statsmodels\\tsa\\ar_model.py:248: FutureWarning: The parameter names will change after 0.12 is released. Set old_names to False to use the new names now. Set old_names to True to use the old names. \n",
      "  warnings.warn(\n"
     ]
    }
   ],
   "source": [
    "# AR (autoregressive) model with Lag=10\n",
    "ar_model10 = AutoReg(e_spread_variation, lags=10).fit()\n",
    "print(ar_model10.summary())"
   ]
  },
  {
   "cell_type": "markdown",
   "metadata": {},
   "source": [
    "The Spread Variation (net of the previous spread relationship) is curiously negative related with the previous spread and positive related with lags >= 1 until at least lag = 10. Altough the Z-score shows a statistically significant relation up the 10th lag, the log-likelihood, AIC and BIC show little improvement, let's keep lags = 1."
   ]
  },
  {
   "cell_type": "code",
   "execution_count": 16,
   "metadata": {},
   "outputs": [],
   "source": [
    "spread_predic = (-regSpread.intercept_[0] + -regSpread.coef_[0][0] * spread.values[3:-1] \n",
    "                    + e_spread_variation[1:-2] * ar_model1.params[1])"
   ]
  },
  {
   "cell_type": "code",
   "execution_count": 17,
   "metadata": {},
   "outputs": [
    {
     "name": "stdout",
     "output_type": "stream",
     "text": [
      "R^2: 0.20818961037566855\n"
     ]
    },
    {
     "data": {
      "image/png": "[encoded data removed]",
      "text/plain": [
       "<Figure size 432x288 with 1 Axes>"
      ]
     },
     "metadata": {
      "needs_background": "light"
     },
     "output_type": "display_data"
    }
   ],
   "source": [
    "plt.scatter(spread_predic,spread_variation[3:])\n",
    "rsq = (np.corrcoef(spread_predic,spread_variation[3:])[0][1])**2\n",
    "print('R^2:', rsq)"
   ]
  },
  {
   "cell_type": "markdown",
   "metadata": {},
   "source": [
    "Having a model for predicting the spread, I will change our focus to the prediction of price. This model will be based on the Cont et al. paper mentioned in the LOB Class.\n",
    "\n",
    "Let's take a look in our data."
   ]
  },
  {
   "cell_type": "code",
   "execution_count": 27,
   "metadata": {},
   "outputs": [
    {
     "data": {
      "image/png": "[encoded data removed]",
      "text/plain": [
       "<Figure size 432x288 with 1 Axes>"
      ]
     },
     "metadata": {
      "needs_background": "light"
     },
     "output_type": "display_data"
    },
    {
     "data": {
      "image/png": "[encoded data removed]",
      "text/plain": [
       "<Figure size 432x288 with 1 Axes>"
      ]
     },
     "metadata": {
      "needs_background": "light"
     },
     "output_type": "display_data"
    }
   ],
   "source": [
    "plt.plot(market.OFI().En)\n",
    "plt.savefig('en.png')\n",
    "plt.show()\n",
    "\n",
    "plt.plot(market.OFI().OFI)\n",
    "plt.savefig('ofi.png')\n",
    "plt.show()"
   ]
  },
  {
   "cell_type": "code",
   "execution_count": 19,
   "metadata": {},
   "outputs": [],
   "source": [
    "# Looking OFI and DeltaPrice when a trade occour\n",
    "\n",
    "OFI_trade = market.OFI()[market.OFI().DeltaPrice.notnull()]\n",
    "OFI_trade = OFI_trade[np.abs(OFI_trade.DeltaPrice-OFI_trade.DeltaPrice.mean()) <= (3*OFI_trade.DeltaPrice.std())] # Removing outliers\n",
    "OFI_trade = OFI_trade[np.abs(OFI_trade.OFI-OFI_trade.OFI.mean()) <= (2*OFI_trade.OFI.std())] # Removing outliers"
   ]
  },
  {
   "cell_type": "code",
   "execution_count": 28,
   "metadata": {},
   "outputs": [
    {
     "data": {
      "image/png": "[encoded data removed]",
      "text/plain": [
       "<Figure size 432x288 with 1 Axes>"
      ]
     },
     "metadata": {
      "needs_background": "light"
     },
     "output_type": "display_data"
    },
    {
     "name": "stdout",
     "output_type": "stream",
     "text": [
      "Correlation between OFI and DeltaPrice:  0.22054918674391108\n"
     ]
    }
   ],
   "source": [
    "plt.scatter(OFI_trade.OFI,OFI_trade.DeltaPrice)\n",
    "plt.savefig('ofidelta.png')\n",
    "plt.show()\n",
    "\n",
    "print('Correlation between OFI and DeltaPrice: ',np.corrcoef(OFI_trade.OFI,OFI_trade.DeltaPrice)[0][1])"
   ]
  },
  {
   "cell_type": "markdown",
   "metadata": {},
   "source": [
    "A linear regression, again, seems a resonable model for a first analysis."
   ]
  },
  {
   "cell_type": "code",
   "execution_count": 32,
   "metadata": {},
   "outputs": [
    {
     "name": "stdout",
     "output_type": "stream",
     "text": [
      "                            OLS Regression Results                            \n",
      "==============================================================================\n",
      "Dep. Variable:             DeltaPrice   R-squared:                       0.049\n",
      "Model:                            OLS   Adj. R-squared:                  0.049\n",
      "Method:                 Least Squares   F-statistic:                     389.5\n",
      "Date:                Mon, 29 Aug 2022   Prob (F-statistic):           1.34e-84\n",
      "Time:                        16:06:01   Log-Likelihood:             1.2162e+05\n",
      "No. Observations:                7620   AIC:                        -2.432e+05\n",
      "Df Residuals:                    7618   BIC:                        -2.432e+05\n",
      "Df Model:                           1                                         \n",
      "Covariance Type:            nonrobust                                         \n",
      "==============================================================================\n",
      "                 coef    std err          t      P>|t|      [0.025      0.975]\n",
      "------------------------------------------------------------------------------\n",
      "const      -8.353e-10   3.27e-10     -2.557      0.011   -1.48e-09   -1.95e-10\n",
      "x1          3.528e-13   1.79e-14     19.736      0.000    3.18e-13    3.88e-13\n",
      "==============================================================================\n",
      "Omnibus:                     1171.992   Durbin-Watson:                   2.551\n",
      "Prob(Omnibus):                  0.000   Jarque-Bera (JB):            11463.824\n",
      "Skew:                          -0.428   Prob(JB):                         0.00\n",
      "Kurtosis:                       8.948   Cond. No.                     1.84e+04\n",
      "==============================================================================\n",
      "\n",
      "Notes:\n",
      "[1] Standard Errors assume that the covariance matrix of the errors is correctly specified.\n",
      "[2] The condition number is large, 1.84e+04. This might indicate that there are\n",
      "strong multicollinearity or other numerical problems.\n"
     ]
    }
   ],
   "source": [
    "X2 = sm.add_constant(OFI_trade.OFI.values.reshape(-1, 1))\n",
    "est = sm.OLS(OFI_trade.DeltaPrice,X2)\n",
    "est2 = est.fit()\n",
    "print(est2.summary())"
   ]
  },
  {
   "cell_type": "code",
   "execution_count": 21,
   "metadata": {},
   "outputs": [
    {
     "name": "stdout",
     "output_type": "stream",
     "text": [
      "R^2:  0.04864194377340059\n",
      "Regression Beta:  3.5279187855684965e-13\n",
      "Regression Intercept:  -8.353417597654075e-10\n"
     ]
    }
   ],
   "source": [
    "regPrice = LinearRegression()\n",
    "regPrice.fit(OFI_trade.OFI.values.reshape(-1, 1),OFI_trade.DeltaPrice)\n",
    "print('R^2: ',regPrice.score(OFI_trade.OFI.values.reshape(-1, 1),OFI_trade.DeltaPrice))\n",
    "print('Regression Beta: ',regPrice.coef_[0])\n",
    "print('Regression Intercept: ', regPrice.intercept_)"
   ]
  },
  {
   "cell_type": "code",
   "execution_count": 33,
   "metadata": {},
   "outputs": [
    {
     "data": {
      "image/png": "[encoded data removed]",
      "text/plain": [
       "<Figure size 432x288 with 1 Axes>"
      ]
     },
     "metadata": {
      "needs_background": "light"
     },
     "output_type": "display_data"
    },
    {
     "name": "stdout",
     "output_type": "stream",
     "text": [
      "R^2:  0.04864194377340055\n"
     ]
    }
   ],
   "source": [
    "predicPrice = OFI_trade.OFI.values * regPrice.coef_ + regPrice.intercept_\n",
    "plt.scatter(predicPrice, OFI_trade.DeltaPrice)\n",
    "plt.savefig('ofireg.png')\n",
    "plt.show()\n",
    "print('R^2: ', (np.corrcoef(predicPrice, OFI_trade.DeltaPrice)[0][1])**2)"
   ]
  },
  {
   "cell_type": "markdown",
   "metadata": {},
   "source": [
    "In a competitive market, predict the price is not an easy task, therefore a R^2 of ~5% it's actually an interesting number."
   ]
  },
  {
   "cell_type": "markdown",
   "metadata": {},
   "source": [
    "We now have the tools to build our actual Market Maker algo.\n",
    "\n",
    "The Market Maker Class will receive three vector of informations: tradingParams, marketParams, predictionParams.\n",
    "\n",
    "Each with the following:\n",
    "\n",
    "tradingParams:\n",
    "\n",
    "    - currentPosition: Our current position in Crypto.\n",
    "    - desiredPosition: The desired position in Crypto. It could be 0 for a neutral futures trader or a positive value for a trader allowed to have an inventory.\n",
    "    - averageSize: The average desired trade size (more details in the class).\n",
    "    - lotSize: Some markets only allow sizes multiples of a number.\n",
    "    - decayFactor: A factor to adjust the order size (more details in the class).\n",
    "\n",
    "marketParams:\n",
    "\n",
    "    - spreadVector: Vector of past spreads.\n",
    "    - currentOFI: Last OFI value.\n",
    "    - lastPrice: Last Executed Price\n",
    "\n",
    "\n",
    "predictionParams:\n",
    "\n",
    "    - ofiIntercept: Intercept of the price prediction model.\n",
    "    - ofiBeta: Beta of the price prediction model.\n",
    "    - spreadIntercept: Intercept of the Spread vs Spread variation Model\n",
    "    - spreadBeta: Beta of the Spread vs Spread variation Model\n",
    "    - arBeta: Beta of the Autoregressive Model\n",
    "\n",
    "shortSellAllowed: Indicate if this market allowed short positions."
   ]
  },
  {
   "cell_type": "code",
   "execution_count": 117,
   "metadata": {},
   "outputs": [],
   "source": [
    "#tradingParams = ['currentPosition','desiredPosition','averageSize','lotSize','decayFactor']\n",
    "#marketParams = ['spreadVector','currentOFI', 'lastPrice']\n",
    "#predictionParams = ['ofiIntercept','ofiBeta','spreadIntercept','spreadBeta','arBeta']"
   ]
  },
  {
   "cell_type": "code",
   "execution_count": 118,
   "metadata": {},
   "outputs": [],
   "source": [
    "class marketMaker():\n",
    "\n",
    "    def __init__(self, tradingParams, marketParams, predictionParams, shortSellAllowed = False):\n",
    "\n",
    "        self.tradingParams = tradingParams\n",
    "        self.marketParams = marketParams\n",
    "        self.predictionParams = predictionParams\n",
    "        self.shortSellAllowed = shortSellAllowed\n",
    "\n",
    "    def update(self, tradingParams, marketParams, predictionParams):\n",
    "\n",
    "        self.tradingParams = tradingParams\n",
    "        self.marketParams = marketParams\n",
    "        self.predictionParams = predictionParams\n",
    "\n",
    "    def prediSpread(self):\n",
    "\n",
    "        spread = self.marketParams[0]\n",
    "        spreadPredic = (self.predictionParams[2] + self.predictionParams[3] * spread[-1] +\n",
    "                        (spread[-1] - spread[-2]) * self.predictionParams[4]) * self.marketParams[2]\n",
    "\n",
    "        return spreadPredic\n",
    "\n",
    "    def prediPrice(self):\n",
    "        \n",
    "        price = self.marketParams[2] + self.predictionParams[0] + self.predictionParams[1] * self.marketParams[1]\n",
    "\n",
    "        return price\n",
    "\n",
    "    def prices(self):\n",
    "        \n",
    "        # Consider the predicted price as a prediction of the mid price.\n",
    "\n",
    "        bid = self.prediPrice() - self.prediSpread()*0.5\n",
    "        ask = self.prediPrice() + self.prediSpread()*0.5\n",
    "        \n",
    "        return [bid, ask]\n",
    "\n",
    "    def size(self):\n",
    "\n",
    "        # Altough the challange suggests a fixed order size, I have tried to make a simple MM algo\n",
    "        # before (rule: 1 bip worst than the current best bid/offer), connected to an exchange.\n",
    "        # Was usual to my position grows many times to one side or another, reaching my margin limit\n",
    "        # and forcing me to liquidate part of the position, at big loss. This issue was partially solved\n",
    "        # by adjust the bid/ask sizes according to my current position. If I have more than desired,\n",
    "        # buy less than sell and vice-versa.\n",
    "        #\n",
    "        # The choosed functional form is a discretized exponential decay:\n",
    "        bidSize = ((tradingParams[2]*np.exp((tradingParams[0] - tradingParams[1])*(1/tradingParams[2])*-tradingParams[4]))// tradingParams[3]) * tradingParams[3]\n",
    "        askSize = ((tradingParams[2]*np.exp((tradingParams[1] - tradingParams[0])*(1/tradingParams[2])*-tradingParams[4]))// tradingParams[3]) * tradingParams[3]\n",
    "\n",
    "        if not(self.shortSellAllowed):\n",
    "            askSize = min(askSize, tradingParams[0])\n",
    "\n",
    "        return [bidSize, askSize]\n",
    "\n",
    "    def createOrder(self):\n",
    "\n",
    "        # A sequential orderd id is usefull to keep track of each trade creation for subsequent\n",
    "        # order modification, cancelation and record.\n",
    "\n",
    "        global od_id\n",
    "\n",
    "\n",
    "        price = self.prices()\n",
    "        qnt = self.size()\n",
    "\n",
    "        # Order Type: Limit Good-Til-Cancel Post Only (if the price would cause a immediatly execution, the\n",
    "        # price is worstened in 1 bip)\n",
    "        bidOrder = ({'order id:': od_id+1, 'side:' : 'buy', 'order_type:': 'Limit GTC Post-Only', 'price:': price[0], 'quantity:': qnt[0]})\n",
    "        askOrder = ({'order id:': od_id+2, 'side:' : 'sell', 'order_type:': 'Limit GTC Post-Only', 'price:': price[1], 'quantity:': qnt[1]})\n",
    "\n",
    "        \n",
    "        od_id = od_id + 2\n",
    "\n",
    "        return [bidOrder, askOrder]\n",
    "\n",
    "\n"
   ]
  },
  {
   "cell_type": "code",
   "execution_count": 119,
   "metadata": {},
   "outputs": [],
   "source": [
    "tradingParams = [100000,100000,1000,1,0.01]\n",
    "marketParams = [spread.values,OFI_trade.OFI[-1], market.trades.price[-1]]\n",
    "predictionParams = [regPrice.intercept_,regPrice.coef_[0],regSpread.intercept_[0],regSpread.coef_[0][0],ar_model1.params[1]]"
   ]
  },
  {
   "cell_type": "code",
   "execution_count": 120,
   "metadata": {},
   "outputs": [],
   "source": [
    "robot = marketMaker(tradingParams, marketParams, predictionParams)\n",
    "od_id = 0"
   ]
  },
  {
   "cell_type": "code",
   "execution_count": 121,
   "metadata": {},
   "outputs": [
    {
     "data": {
      "text/plain": [
       "[{'order id:': 1,\n",
       "  'side:': 'buy',\n",
       "  'order_type:': 'Limit GTC Post-Only',\n",
       "  'price:': 2.8471355815240297e-05,\n",
       "  'quantity:': 1000.0},\n",
       " {'order id:': 2,\n",
       "  'side:': 'sell',\n",
       "  'order_type:': 'Limit GTC Post-Only',\n",
       "  'price:': 2.8465712623066205e-05,\n",
       "  'quantity:': 1000.0}]"
      ]
     },
     "execution_count": 121,
     "metadata": {},
     "output_type": "execute_result"
    }
   ],
   "source": [
    "robot.createOrder()"
   ]
  },
  {
   "cell_type": "code",
   "execution_count": 122,
   "metadata": {},
   "outputs": [
    {
     "data": {
      "text/plain": [
       "[{'order id:': 3,\n",
       "  'side:': 'buy',\n",
       "  'order_type:': 'Limit GTC Post-Only',\n",
       "  'price:': 2.8471355815240297e-05,\n",
       "  'quantity:': 1105.0},\n",
       " {'order id:': 4,\n",
       "  'side:': 'sell',\n",
       "  'order_type:': 'Limit GTC Post-Only',\n",
       "  'price:': 2.8465712623066205e-05,\n",
       "  'quantity:': 904.0}]"
      ]
     },
     "execution_count": 122,
     "metadata": {},
     "output_type": "execute_result"
    }
   ],
   "source": [
    "tradingParams = [90000,100000,1000,1,0.01]\n",
    "marketParams = [spread.values,OFI_trade.OFI[-1], market.trades.price[-1]]\n",
    "predictionParams = [regPrice.intercept_,regPrice.coef_[0],regSpread.intercept_[0],regSpread.coef_[0][0],ar_model1.params[1]]\n",
    "\n",
    "robot.update(tradingParams, marketParams, predictionParams)\n",
    "robot.createOrder()"
   ]
  },
  {
   "cell_type": "code",
   "execution_count": null,
   "metadata": {},
   "outputs": [],
   "source": []
  }
 ],
 "metadata": {
  "interpreter": {
   "hash": "4fbfea1dd5a17f80dff8df3ba641602c59e31ce1a55b82aea18e6894ff3c71a7"
  },
  "kernelspec": {
   "display_name": "Python 3.9.5 64-bit",
   "language": "python",
   "name": "python3"
  },
  "language_info": {
   "codemirror_mode": {
    "name": "ipython",
    "version": 3
   },
   "file_extension": ".py",
   "mimetype": "text/x-python",
   "name": "python",
   "nbconvert_exporter": "python",
   "pygments_lexer": "ipython3",
   "version": "3.9.5"
  },
  "orig_nbformat": 4
 },
 "nbformat": 4,
 "nbformat_minor": 2
}
